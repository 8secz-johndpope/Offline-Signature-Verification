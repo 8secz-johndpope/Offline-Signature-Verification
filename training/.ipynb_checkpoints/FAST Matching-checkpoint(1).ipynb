{
 "cells": [
  {
   "cell_type": "code",
   "execution_count": 49,
   "metadata": {},
   "outputs": [
    {
     "name": "stdout",
     "output_type": "stream",
     "text": [
      "3.5.5 |Anaconda, Inc.| (default, Apr  7 2018, 04:52:34) [MSC v.1900 64 bit (AMD64)]\n",
      "Feature Lengths 70 64\n",
      "Good Length:  22\n"
     ]
    },
    {
     "data": {
      "image/png": "[encoded data removed]",
      "text/plain": [
       "<Figure size 432x288 with 1 Axes>"
      ]
     },
     "metadata": {},
     "output_type": "display_data"
    },
    {
     "data": {
      "text/plain": [
       "(<matplotlib.image.AxesImage at 0x1bd9ae235f8>, None)"
      ]
     },
     "execution_count": 49,
     "metadata": {},
     "output_type": "execute_result"
    }
   ],
   "source": [
    "import os\n",
    "import numpy as np\n",
    "import cv2 \n",
    "from matplotlib import pyplot as plt\n",
    "import scipy.io as sio\n",
    "import sys\n",
    "import platform\n",
    "\n",
    "\n",
    "input1 = \"1\\prep_original.png\"\n",
    "input2 = \"1\\prep_gen1.png\"\n",
    "\n",
    "\n",
    "\n",
    "# Initiate FAST detector\n",
    "#Remember in case of using FAST method, you can only find the keypoints but you dont have any detector. \n",
    "def apply_FAST(source):\n",
    "    #here fast is only used for detecting the keypoints but later on BRIEF will be used for the \n",
    "    img = cv2.imread(source,0)     \n",
    "    # find the keypoints and descriptors with SIFT\n",
    "    #kp1, des1 = orb.detectAndCompute(img1,None)\n",
    "    #kp2, des2 = orb.detectAndCompute(img2,None)\n",
    "    \n",
    "    \n",
    "    # Initiate FAST extractor\n",
    "    fast = cv2.FastFeatureDetector_create()\n",
    "    kp = fast.detect(img,None)\n",
    "\n",
    "    # Initiate BRIEF extractor\n",
    "    brief = cv2.xfeatures2d.BriefDescriptorExtractor_create()\n",
    "    kp1, des1 = brief.compute(img, kp)\n",
    "    return kp1, des1\n",
    "\n",
    "\n",
    "def files(path):  \n",
    "    for file in os.listdir(path):\n",
    "        if os.path.isfile(os.path.join(path, file)):\n",
    "            yield file\n",
    "\n",
    "            \n",
    "#Threshold for limiting the number of features in the images.            \n",
    "           \n",
    "#for file in files(\".\"):\n",
    "   # if \"gen\" in file:\n",
    "    #    print (file)\n",
    "     #   k, d = apply_ORB(file)\n",
    "        #print (k)\n",
    "        #print(d)\n",
    "        \n",
    "#main() starts from here\n",
    "print(sys.version)\n",
    "platform.python_version()\n",
    "number_of_matches = 20;       \n",
    "k1, d1 = apply_FAST(input1)\n",
    "k2, d2 = apply_FAST(input2)\n",
    "\n",
    "print(\"Feature Lengths\", len(k1), len(k2))\n",
    "\n",
    "# create BFMatcher object\n",
    "bf = cv2.BFMatcher(cv2.NORM_HAMMING, crossCheck=False)\n",
    "# Match descriptors.\n",
    "#matches = bf.match(d1,d2)\n",
    "matches = bf.knnMatch(d1,d2, k=2)\n",
    "# Sort them in the order of their distance.\n",
    "#matches = sorted(matches, key = lambda x:x.distance)\n",
    "\n",
    "\n",
    "\n",
    "\n",
    "# Apply ratio test\n",
    "good = []\n",
    "for m,n in matches:\n",
    "    if m.distance < 0.8 * n.distance:\n",
    "        good.append([m])\n",
    "\n",
    "\n",
    "print(\"Good Length: \", len(good))\n",
    "\n",
    "\n",
    "\n",
    "img1 = cv2.imread(input1,0)\n",
    "img2 = cv2.imread(input2,0)\n",
    "#img3 = cv2.drawMatches(img1,k1,img2,k2, matches[:number_of_matches] ,None, flags=2)\n",
    "img3 = cv2.drawMatchesKnn(img1,k1,img2,k2,good,None, flags=2)\n",
    "\n",
    "plt.imshow(img3),plt.show()\n"
   ]
  }
 ],
 "metadata": {
  "kernelspec": {
   "display_name": "Python 3",
   "language": "python",
   "name": "python3"
  },
  "language_info": {
   "codemirror_mode": {
    "name": "ipython",
    "version": 3
   },
   "file_extension": ".py",
   "mimetype": "text/x-python",
   "name": "python",
   "nbconvert_exporter": "python",
   "pygments_lexer": "ipython3",
   "version": "3.5.5"
  },
  "widgets": {
   "state": {},
   "version": "1.1.2"
  }
 },
 "nbformat": 4,
 "nbformat_minor": 2
}
