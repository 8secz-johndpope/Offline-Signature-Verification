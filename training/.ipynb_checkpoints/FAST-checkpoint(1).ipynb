{
 "cells": [
  {
   "cell_type": "code",
   "execution_count": 34,
   "metadata": {},
   "outputs": [
    {
     "name": "stdout",
     "output_type": "stream",
     "text": [
      "Threshold:  10\n",
      "nonmaxSuppression:  True\n",
      "neighborhood:  2\n",
      "Total Keypoints with nonmaxSuppression:  1964\n"
     ]
    },
    {
     "ename": "AttributeError",
     "evalue": "'cv2.FastFeatureDetector' object has no attribute 'setBool'",
     "output_type": "error",
     "traceback": [
      "\u001b[1;31m---------------------------------------------------------------------------\u001b[0m",
      "\u001b[1;31mAttributeError\u001b[0m                            Traceback (most recent call last)",
      "\u001b[1;32m<ipython-input-34-0b4301d8058c>\u001b[0m in \u001b[0;36m<module>\u001b[1;34m()\u001b[0m\n\u001b[0;32m     25\u001b[0m \u001b[1;33m\u001b[0m\u001b[0m\n\u001b[0;32m     26\u001b[0m \u001b[1;31m# Disable nonmaxSuppression\u001b[0m\u001b[1;33m\u001b[0m\u001b[1;33m\u001b[0m\u001b[0m\n\u001b[1;32m---> 27\u001b[1;33m \u001b[0mfast\u001b[0m\u001b[1;33m.\u001b[0m\u001b[0msetBool\u001b[0m\u001b[1;33m(\u001b[0m\u001b[1;34m'nonmaxSuppression'\u001b[0m\u001b[1;33m,\u001b[0m\u001b[1;36m0\u001b[0m\u001b[1;33m)\u001b[0m\u001b[1;33m\u001b[0m\u001b[0m\n\u001b[0m\u001b[0;32m     28\u001b[0m \u001b[0mkp\u001b[0m \u001b[1;33m=\u001b[0m \u001b[0mfast\u001b[0m\u001b[1;33m.\u001b[0m\u001b[0mdetect\u001b[0m\u001b[1;33m(\u001b[0m\u001b[0mimg\u001b[0m\u001b[1;33m,\u001b[0m\u001b[1;32mNone\u001b[0m\u001b[1;33m)\u001b[0m\u001b[1;33m\u001b[0m\u001b[0m\n\u001b[0;32m     29\u001b[0m \u001b[1;33m\u001b[0m\u001b[0m\n",
      "\u001b[1;31mAttributeError\u001b[0m: 'cv2.FastFeatureDetector' object has no attribute 'setBool'"
     ]
    }
   ],
   "source": [
    "import numpy as np\n",
    "import cv2\n",
    "from matplotlib import pyplot as plt\n",
    "\n",
    "img = cv2.imread('input.png',0)\n",
    "\n",
    "# Initiate FAST object with default values\n",
    "fast = cv2.FastFeatureDetector_create()\n",
    "\n",
    "# find and draw the keypoints\n",
    "kp = fast.detect(img,None)\n",
    "#img2 = cv2.drawKeypoints(img, kp, color=(255,0,0), flags = 0)\n",
    "img2 = cv2.drawKeypoints(img, kp, None, color=(255,0,0))\n",
    "\n",
    "\n",
    "# Print all default params\n",
    "print (\"Threshold: \", fast.getThreshold())\n",
    "print (\"nonmaxSuppression: \", fast.getNonmaxSuppression ())\n",
    "print (\"neighborhood: \", fast.getType())\n",
    "print (\"Total Keypoints with nonmaxSuppression: \", len(kp))\n",
    "\n",
    "cv2.imwrite('fast_true.png',img2)\n",
    "\n",
    "\n",
    "\n",
    "# Disable nonmaxSuppression\n",
    "fast.setBool('nonmaxSuppression',0)\n",
    "kp = fast.detect(img,None)\n",
    "\n",
    "print (\"Total Keypoints without nonmaxSuppression: \", len(kp))\n",
    "print(\"Keypoints\")\n",
    "img3 = cv2.drawKeypoints(img, kp, None,  color=(255,0,0))\n",
    "#img3 = cv2.drawKeypoints(img,kp,color=(0,255,0), flags=0)\n",
    "cv2.imwrite('fast_false.png',img3)"
   ]
  }
 ],
 "metadata": {
  "kernelspec": {
   "display_name": "Python 3",
   "language": "python",
   "name": "python3"
  },
  "language_info": {
   "codemirror_mode": {
    "name": "ipython",
    "version": 3
   },
   "file_extension": ".py",
   "mimetype": "text/x-python",
   "name": "python",
   "nbconvert_exporter": "python",
   "pygments_lexer": "ipython3",
   "version": "3.5.5"
  },
  "widgets": {
   "state": {},
   "version": "1.1.2"
  }
 },
 "nbformat": 4,
 "nbformat_minor": 2
}
