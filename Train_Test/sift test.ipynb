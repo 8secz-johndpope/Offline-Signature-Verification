{
 "cells": [
  {
   "cell_type": "code",
   "execution_count": 4,
   "metadata": {},
   "outputs": [
    {
     "data": {
      "text/plain": [
       "True"
      ]
     },
     "execution_count": 4,
     "metadata": {},
     "output_type": "execute_result"
    }
   ],
   "source": [
    "import os\n",
    "import numpy as np\n",
    "import cv2 \n",
    "from matplotlib import pyplot as plt\n",
    "import scipy.io as sio\n",
    "import sys\n",
    "import numpy as np\n",
    "import platform\n",
    "import statistics\n",
    "\n",
    "\n",
    "img = cv2.imread(\"001_01.PNG\",0)  \n",
    "orb = cv2.xfeatures2d.SIFT_create()\n",
    "kp = orb.detect(img, None)   \n",
    "kp1, des1 = orb.compute(img, kp)\n",
    "\n",
    "\n",
    "img=cv2.drawKeypoints(img,kp, None)\n",
    "cv2.imwrite('sift_keypoints.jpg',img)\n"
   ]
  }
 ],
 "metadata": {
  "kernelspec": {
   "display_name": "Python 3",
   "language": "python",
   "name": "python3"
  },
  "language_info": {
   "codemirror_mode": {
    "name": "ipython",
    "version": 3
   },
   "file_extension": ".py",
   "mimetype": "text/x-python",
   "name": "python",
   "nbconvert_exporter": "python",
   "pygments_lexer": "ipython3",
   "version": "3.6.5"
  },
  "widgets": {
   "state": {},
   "version": "1.1.2"
  }
 },
 "nbformat": 4,
 "nbformat_minor": 2
}
