{
 "cells": [
  {
   "cell_type": "code",
   "execution_count": 53,
   "metadata": {},
   "outputs": [
    {
     "name": "stdout",
     "output_type": "stream",
     "text": [
      "965\n",
      "Time elapsed : 0.03899788856506348\n"
     ]
    }
   ],
   "source": [
    "import os\n",
    "import numpy as np\n",
    "import cv2 \n",
    "from matplotlib import pyplot as plt\n",
    "import scipy.io as sio\n",
    "import sys\n",
    "import numpy as np\n",
    "import platform\n",
    "import statistics\n",
    "import time\n",
    "\n",
    "input1 = \"ch_15_013.PNG\"\n",
    "input2 = \"ch_17_013.PNG\"\n",
    "\n",
    "def apply_FAST(source):\n",
    "    img = cv2.imread(source,0)     \n",
    "    fast = cv2.FastFeatureDetector_create()\n",
    "    kp = fast.detect(img,None)\n",
    "    \n",
    "    \n",
    "    freakExtractor = cv2.xfeatures2d.FREAK_create()\n",
    "    kp1,des1= freakExtractor.compute(img,kp)\n",
    "    print(len(kp1))\n",
    "    return kp1, des1\n",
    "\n",
    "\n",
    "\n",
    "\n",
    "\n",
    "\n",
    "t = time.time()       \n",
    "k1, d1 = apply_FAST(input1)\n",
    "elapsed = time.time() - t\n",
    "print(\"Time elapsed : \" + str(elapsed))\n",
    "\n",
    "\n"
   ]
  }
 ],
 "metadata": {
  "kernelspec": {
   "display_name": "Python 3",
   "language": "python",
   "name": "python3"
  },
  "language_info": {
   "codemirror_mode": {
    "name": "ipython",
    "version": 3
   },
   "file_extension": ".py",
   "mimetype": "text/x-python",
   "name": "python",
   "nbconvert_exporter": "python",
   "pygments_lexer": "ipython3",
   "version": "3.6.5"
  },
  "widgets": {
   "state": {},
   "version": "1.1.2"
  }
 },
 "nbformat": 4,
 "nbformat_minor": 2
}
